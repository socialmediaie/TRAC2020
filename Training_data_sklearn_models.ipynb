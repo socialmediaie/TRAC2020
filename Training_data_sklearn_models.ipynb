{
  "nbformat": 4,
  "nbformat_minor": 0,
  "metadata": {
    "kernelspec": {
      "display_name": "Python 3",
      "language": "python",
      "name": "python3"
    },
    "language_info": {
      "codemirror_mode": {
        "name": "ipython",
        "version": 3
      },
      "file_extension": ".py",
      "mimetype": "text/x-python",
      "name": "python",
      "nbconvert_exporter": "python",
      "pygments_lexer": "ipython3",
      "version": "3.6.8"
    },
    "colab": {
      "name": "Training data - sklearn models.ipynb",
      "provenance": []
    }
  },
  "cells": [
    {
      "cell_type": "markdown",
      "metadata": {
        "id": "G5hkTJdKbzit",
        "colab_type": "text"
      },
      "source": [
        "## Tasks and Classes\n",
        "\n",
        "\n",
        "### Sub-task A :-\n",
        "Aggression Identification Shared Task. The task will be to develop a classifier that could make a 3-way classification in between ‘Overtly Aggressive’, ‘Covertly Aggressive’ and ‘Non-aggressive’ text data. We are making available a dataset of 5,000 aggression-annotated data from social media each in Bangla (in both Roman and Bangla script), Hindi (in both Roman and Devanagari script) and English for training and validation. We will release additional data for testing your system. The train and test sets for the tasks are different from the ones made available during TRAC - 1.\n",
        "\n",
        "### Sub-task B :-\n",
        "Misogynistic Aggression Identification Shared Task: This task will be to develop a binary classifier for classifying the text as ‘gendered’ or ‘non-gendered’. We will provide a dataset of 5,000 annotated data from social media each in Bangla (in both Roman and Bangla script), Hindi (in both Roman and Devanagari script) and English for training and validation. We will release additional data for testing your system.\n",
        "\n",
        "* **(HATE) Hate speech** :- Posts under this class contain Hate speech content.\n",
        "* **(OFFN) Offenive** :- Posts under this class contain offensive content.\n",
        "* **(PRFN) Profane** :- These posts contain profane words.\n",
        "\n",
        "\n",
        "#### HATE SPEECH\n",
        "Describing negative attributes or deficiencies to groups of individuals because they are members of a group (e.g. all poor people are stupid). Hateful comment toward groups because of race, political opinion, sexual orientation, gender, social status, health condition or similar.\n",
        "\n",
        "#### OFFENSIVE\n",
        "Posts which are degrading, dehumanizing,insulting an individual,threatening with violent acts are categorized into OFFENSIVE category.\n",
        "\n",
        "#### PROFANITY\n",
        "Unacceptable language in the absence of insults and abuse. This typically concerns the usage of swearwords (Scheiße, Fuck etc.) and cursing (Zur Hölle! Verdammt! etc.) are categorized into this category.\n",
        "We expect most posts to be OTHER, some to be HATE and the other two categories to be less frequent. Dubious cases which are difficult to decide even for humans, should be left out.\n",
        "\n",
        "\n",
        "### Sub-task C :-\n",
        "Sub-task c will check the type of offense. Only posts labeled as HOF in sub-task A are included in sub-task C. The two categories in sub-task C are the following: \n",
        "\n",
        "* **Targeted Insult (TIN)**: Posts containing an insult/threat to an individual, group, or others.\n",
        "* **Untargeted (UNT)**: Posts containing nontargeted profanity and swearing. Posts with general profanity are not targeted, but they contain non-acceptable language.\n",
        "The multilingual HASOC Corpus will be sampled from Facebook and Twitter and distributed in tab separated format. Participants are allowed to use external resources and other datasets for this task. Dataset will be prepared in 3 languages (German, English and code-mixed hindi).\n",
        "\n",
        "The size of Training data corpus is approximately 8000 posts for each language and Test data is approximately 1000 posts for the each language. Classification systems in all tasks will be evaluated using either macro-averaged F1-score or weighted F1-score."
      ]
    },
    {
      "cell_type": "code",
      "metadata": {
        "id": "A2CpU-YRbziv",
        "colab_type": "code",
        "colab": {}
      },
      "source": [
        "%matplotlib inline\n",
        "\n",
        "import os\n",
        "import pandas as pd\n",
        "import matplotlib.pyplot as plt\n",
        "import seaborn as sns\n",
        "from sklearn.feature_extraction.text import CountVectorizer\n",
        "from sklearn.feature_extraction.text import TfidfTransformer\n",
        "from sklearn.linear_model import LogisticRegressionCV\n",
        "import sklearn.metrics as sk_metrics\n",
        "from sklearn.pipeline import Pipeline"
      ],
      "execution_count": 0,
      "outputs": []
    },
    {
      "cell_type": "code",
      "metadata": {
        "id": "kPanx4y_cKpd",
        "colab_type": "code",
        "colab": {
          "base_uri": "https://localhost:8080/",
          "height": 122
        },
        "outputId": "1ee841a8-8d96-43cc-81ac-3cc1e21164f8"
      },
      "source": [
        "from google.colab import drive\n",
        "drive.mount('/content/gdrive')"
      ],
      "execution_count": 3,
      "outputs": [
        {
          "output_type": "stream",
          "text": [
            "Go to this URL in a browser: https://accounts.google.com/o/oauth2/auth?client_id=947318989803-6bn6qk8qdgf4n4g3pfee6491hc0brc4i.apps.googleusercontent.com&redirect_uri=urn%3aietf%3awg%3aoauth%3a2.0%3aoob&response_type=code&scope=email%20https%3a%2f%2fwww.googleapis.com%2fauth%2fdocs.test%20https%3a%2f%2fwww.googleapis.com%2fauth%2fdrive%20https%3a%2f%2fwww.googleapis.com%2fauth%2fdrive.photos.readonly%20https%3a%2f%2fwww.googleapis.com%2fauth%2fpeopleapi.readonly\n",
            "\n",
            "Enter your authorization code:\n",
            "··········\n",
            "Mounted at /content/gdrive\n"
          ],
          "name": "stdout"
        }
      ]
    },
    {
      "cell_type": "code",
      "metadata": {
        "id": "hfYFhXJJcW_n",
        "colab_type": "code",
        "colab": {
          "base_uri": "https://localhost:8080/",
          "height": 34
        },
        "outputId": "f45c8366-bbf6-4cdd-91ee-0f78896fc8ee"
      },
      "source": [
        "%env TRAC_PATH /content/gdrive/My Drive/TRAC/"
      ],
      "execution_count": 4,
      "outputs": [
        {
          "output_type": "stream",
          "text": [
            "env: TRAC_PATH=/content/gdrive/My Drive/TRAC/\n"
          ],
          "name": "stdout"
        }
      ]
    },
    {
      "cell_type": "code",
      "metadata": {
        "id": "VT2zIWGgccoh",
        "colab_type": "code",
        "colab": {
          "base_uri": "https://localhost:8080/",
          "height": 527
        },
        "outputId": "4fd8596c-7173-445a-e7a0-6022d1bf30d7"
      },
      "source": [
        "%%bash \n",
        "echo \"${TRAC_PATH}\"\n",
        "ls -ltrh \"${TRAC_PATH}/data\"\n",
        "realpath \"${TRAC_PATH}\"\n",
        "ls -ltrh \"${TRAC_PATH}\"/data/**/*"
      ],
      "execution_count": 5,
      "outputs": [
        {
          "output_type": "stream",
          "text": [
            "/content/gdrive/My Drive/TRAC/\n",
            "total 16K\n",
            "drwx------ 2 root root 4.0K Mar  7 06:27 iben\n",
            "drwx------ 2 root root 4.0K Mar  7 06:27 raw\n",
            "drwx------ 2 root root 4.0K Mar  7 06:27 hin\n",
            "drwx------ 2 root root 4.0K Mar  7 06:27 eng\n",
            "/content/gdrive/My Drive/TRAC\n",
            "-rw------- 1 root root 389K Mar  7 06:27 /content/gdrive/My Drive/TRAC//data/iben/trac2_iben_train.csv\n",
            "-rw------- 1 root root  93K Mar  7 06:27 /content/gdrive/My Drive/TRAC//data/iben/trac2_iben_dev.csv\n",
            "-rw------- 1 root root 1.3K Mar  7 06:27 /content/gdrive/My Drive/TRAC//data/iben/README.txt\n",
            "-rw------- 1 root root 1.3K Mar  7 06:27 /content/gdrive/My Drive/TRAC//data/hin/README.txt\n",
            "-rw------- 1 root root 127K Mar  7 06:27 /content/gdrive/My Drive/TRAC//data/eng/trac2_eng_dev.csv\n",
            "-rw------- 1 root root 499K Mar  7 06:27 /content/gdrive/My Drive/TRAC//data/eng/trac2_eng_train.csv\n",
            "-rw------- 1 root root 511K Mar  7 06:27 /content/gdrive/My Drive/TRAC//data/hin/trac2_hin_train.csv\n",
            "-rw------- 1 root root 126K Mar  7 06:27 /content/gdrive/My Drive/TRAC//data/hin/trac2_hin_dev.csv\n",
            "-rw------- 1 root root 1.3K Mar  7 06:27 /content/gdrive/My Drive/TRAC//data/eng/README.txt\n",
            "\n",
            "/content/gdrive/My Drive/TRAC//data/raw/train:\n",
            "total 1.4M\n",
            "-rw------- 1 root root 499K Mar  7 06:27 trac2_eng_train.csv\n",
            "-rw------- 1 root root 389K Mar  7 06:27 trac2_iben_train.csv\n",
            "-rw------- 1 root root 511K Mar  7 06:27 trac2_hin_train.csv\n",
            "\n",
            "/content/gdrive/My Drive/TRAC//data/raw/dev:\n",
            "total 345K\n",
            "-rw------- 1 root root 126K Mar  7 06:27 trac2_hin_dev.csv\n",
            "-rw------- 1 root root  93K Mar  7 06:27 trac2_iben_dev.csv\n",
            "-rw------- 1 root root 127K Mar  7 06:27 trac2_eng_dev.csv\n"
          ],
          "name": "stdout"
        },
        {
          "output_type": "stream",
          "text": [
            "bash: line 5: syntax error near unexpected token `('\n",
            "bash: line 5: `BASE_PATH = os.environ.get(\"TRAC_PATH\")'\n"
          ],
          "name": "stderr"
        }
      ]
    },
    {
      "cell_type": "code",
      "metadata": {
        "id": "ENYPFBs6bziy",
        "colab_type": "code",
        "colab": {
          "base_uri": "https://localhost:8080/",
          "height": 34
        },
        "outputId": "2f491d57-5b57-412c-f2ce-628b9f5571c1"
      },
      "source": [
        "BASE_PATH = os.environ.get(\"TRAC_PATH\")\n",
        "\n",
        "DATA_PATHS_TRAIN = {\n",
        "    \"EN\": f\"{BASE_PATH}/data/raw/train/trac2_eng_train.csv\",\n",
        "    \"IBE\": f\"{BASE_PATH}/data/raw/train/trac2_iben_train.csv\",\n",
        "    \"HI\": f\"{BASE_PATH}/data/raw/train/trac2_hin_train.csv\"\n",
        "}\n",
        "DATA_PATHS_DEV = {\n",
        "    \"EN\": f\"{BASE_PATH}/data/raw/dev/trac2_eng_dev.csv\",\n",
        "    \"IBE\": f\"{BASE_PATH}/data/raw/dev/trac2_iben_dev.csv\",\n",
        "    \"HI\": f\"{BASE_PATH}/data/raw/dev/trac2_hin_dev.csv\"\n",
        "}\n",
        "DATA_PATHS_TEST = {\n",
        "    \"EN\": f\"{BASE_PATH}/data/raw/test/trac2_eng_test.csv\",\n",
        "    \"IBE\": f\"{BASE_PATH}/data/raw/test/trac2_iben_test.csv\",\n",
        "    \"HI\": f\"{BASE_PATH}/data/raw/test/trac2_hin_test.csv\"\n",
        "}\n",
        "\n",
        "#print(DATA_PATHS_DEV)\n",
        "\n",
        "DATA_COLUMNS = [\"row_id\", \"text\", \"task_1\", \"task_2\"]\n",
        "\n",
        "NUM_LANGUAGES = len(DATA_PATHS_TRAIN)\n",
        "print(NUM_LANGUAGES)\n",
        "TASK_LABEL_IDS = {\n",
        "    \"Sub-task A\": [\"OAG\", \"NAG\", \"CAG\"],\n",
        "    \"Sub-task B\": [\"GEN\", \"NGEN\"]\n",
        "}\n"
      ],
      "execution_count": 10,
      "outputs": [
        {
          "output_type": "stream",
          "text": [
            "3\n"
          ],
          "name": "stdout"
        }
      ]
    },
    {
      "cell_type": "code",
      "metadata": {
        "id": "ip8z0xzXbzi2",
        "colab_type": "code",
        "colab": {
          "base_uri": "https://localhost:8080/",
          "height": 204
        },
        "outputId": "c77e70e2-f78f-4afa-a02b-91f8f34c56e6"
      },
      "source": [
        "df = pd.read_csv(DATA_PATHS_TRAIN[\"EN\"], sep=\",\").fillna(\"NULL\")\n",
        "df.head()"
      ],
      "execution_count": 11,
      "outputs": [
        {
          "output_type": "execute_result",
          "data": {
            "text/html": [
              "<div>\n",
              "<style scoped>\n",
              "    .dataframe tbody tr th:only-of-type {\n",
              "        vertical-align: middle;\n",
              "    }\n",
              "\n",
              "    .dataframe tbody tr th {\n",
              "        vertical-align: top;\n",
              "    }\n",
              "\n",
              "    .dataframe thead th {\n",
              "        text-align: right;\n",
              "    }\n",
              "</style>\n",
              "<table border=\"1\" class=\"dataframe\">\n",
              "  <thead>\n",
              "    <tr style=\"text-align: right;\">\n",
              "      <th></th>\n",
              "      <th>ID</th>\n",
              "      <th>Text</th>\n",
              "      <th>Sub-task A</th>\n",
              "      <th>Sub-task B</th>\n",
              "    </tr>\n",
              "  </thead>\n",
              "  <tbody>\n",
              "    <tr>\n",
              "      <th>0</th>\n",
              "      <td>C45.451</td>\n",
              "      <td>Next part</td>\n",
              "      <td>NAG</td>\n",
              "      <td>NGEN</td>\n",
              "    </tr>\n",
              "    <tr>\n",
              "      <th>1</th>\n",
              "      <td>C47.11</td>\n",
              "      <td>Iii8mllllllm\\nMdxfvb8o90lplppi0005</td>\n",
              "      <td>NAG</td>\n",
              "      <td>NGEN</td>\n",
              "    </tr>\n",
              "    <tr>\n",
              "      <th>2</th>\n",
              "      <td>C33.79</td>\n",
              "      <td>🤣🤣😂😂🤣🤣🤣😂osm vedio ....keep it up...make more v...</td>\n",
              "      <td>NAG</td>\n",
              "      <td>NGEN</td>\n",
              "    </tr>\n",
              "    <tr>\n",
              "      <th>3</th>\n",
              "      <td>C4.1961</td>\n",
              "      <td>What the fuck was this? I respect shwetabh and...</td>\n",
              "      <td>NAG</td>\n",
              "      <td>NGEN</td>\n",
              "    </tr>\n",
              "    <tr>\n",
              "      <th>4</th>\n",
              "      <td>C10.153</td>\n",
              "      <td>Concerned authorities should bring arundathi R...</td>\n",
              "      <td>NAG</td>\n",
              "      <td>NGEN</td>\n",
              "    </tr>\n",
              "  </tbody>\n",
              "</table>\n",
              "</div>"
            ],
            "text/plain": [
              "        ID  ... Sub-task B\n",
              "0  C45.451  ...       NGEN\n",
              "1   C47.11  ...       NGEN\n",
              "2   C33.79  ...       NGEN\n",
              "3  C4.1961  ...       NGEN\n",
              "4  C10.153  ...       NGEN\n",
              "\n",
              "[5 rows x 4 columns]"
            ]
          },
          "metadata": {
            "tags": []
          },
          "execution_count": 11
        }
      ]
    },
    {
      "cell_type": "code",
      "metadata": {
        "scrolled": false,
        "id": "Gm1oG0hqbzi5",
        "colab_type": "code",
        "colab": {
          "base_uri": "https://localhost:8080/",
          "height": 1000
        },
        "outputId": "b1caaae6-b6cc-4982-9c7e-66ef84d1e1ef"
      },
      "source": [
        "for data_type, DATA_PATHS in [(\"train\", DATA_PATHS_TRAIN), (\"dev\", DATA_PATHS_DEV)]:\n",
        "    print(data_type)\n",
        "    for lang, path in DATA_PATHS.items():\n",
        "        df = pd.read_csv(path, sep=\",\").fillna(\"NULL\")\n",
        "        task_cols = df.filter(regex=r'Sub-task*', axis=1).columns\n",
        "        print(df.columns)\n",
        "        n_cols = len(task_cols)\n",
        "        fig, ax = plt.subplots(1, n_cols, sharey=True, figsize=(5*n_cols, 4))\n",
        "        for axi, task in zip(ax.flatten(), task_cols):\n",
        "            y = df[task].str.upper().replace(\"NULL\", \"NONE\")\n",
        "            sns.countplot(y, order=sorted(y.unique()), ax=axi, color=\"0.3\")\n",
        "        fig.suptitle(f\"data_type={data_type}, lang={lang}\")\n",
        "        sns.despine(offset=10)"
      ],
      "execution_count": 12,
      "outputs": [
        {
          "output_type": "stream",
          "text": [
            "train\n",
            "Index(['ID', 'Text', 'Sub-task A', 'Sub-task B'], dtype='object')\n",
            "Index(['ID', 'Text', 'Sub-task A', 'Sub-task B'], dtype='object')\n",
            "Index(['ID', 'Text', 'Sub-task A', 'Sub-task B'], dtype='object')\n",
            "dev\n",
            "Index(['ID', 'Text', 'Sub-task A', 'Sub-task B'], dtype='object')\n",
            "Index(['ID', 'Text', 'Sub-task A', 'Sub-task B'], dtype='object')\n",
            "Index(['ID', 'Text', 'Sub-task A', 'Sub-task B'], dtype='object')\n"
          ],
          "name": "stdout"
        },
        {
          "output_type": "display_data",
          "data": {
            "image/png": "[encoded data removed]",
            "text/plain": [
              "<Figure size 720x288 with 2 Axes>"
            ]
          },
          "metadata": {
            "tags": []
          }
        },
        {
          "output_type": "display_data",
          "data": {
            "image/png": "[encoded data removed]",
            "text/plain": [
              "<Figure size 720x288 with 2 Axes>"
            ]
          },
          "metadata": {
            "tags": []
          }
        },
        {
          "output_type": "display_data",
          "data": {
            "image/png": "[encoded data removed]",
            "text/plain": [
              "<Figure size 720x288 with 2 Axes>"
            ]
          },
          "metadata": {
            "tags": []
          }
        },
        {
          "output_type": "display_data",
          "data": {
            "image/png": "[encoded data removed]",
            "text/plain": [
              "<Figure size 720x288 with 2 Axes>"
            ]
          },
          "metadata": {
            "tags": []
          }
        },
        {
          "output_type": "display_data",
          "data": {
            "image/png": "[encoded data removed]",
            "text/plain": [
              "<Figure size 720x288 with 2 Axes>"
            ]
          },
          "metadata": {
            "tags": []
          }
        },
        {
          "output_type": "display_data",
          "data": {
            "image/png": "[encoded data removed]",
            "text/plain": [
              "<Figure size 720x288 with 2 Axes>"
            ]
          },
          "metadata": {
            "tags": []
          }
        }
      ]
    },
    {
      "cell_type": "code",
      "metadata": {
        "scrolled": false,
        "id": "p0SOIJKrbzi9",
        "colab_type": "code",
        "colab": {
          "base_uri": "https://localhost:8080/",
          "height": 1000
        },
        "outputId": "4bdd3149-b4a6-4a9f-a4f9-871ff7952bfd"
      },
      "source": [
        "scorer = sk_metrics.make_scorer(sk_metrics.f1_score, average=\"macro\")\n",
        "from sklearn import preprocessing\n",
        "for lang in [\"EN\", \"IBE\", \"HI\"]:\n",
        "    df_train=pd.read_csv(DATA_PATHS_TRAIN[lang], sep=',').fillna(\"NULL\")\n",
        "    df_dev=pd.read_csv(DATA_PATHS_DEV[lang], sep=',').fillna(\"NULL\")\n",
        "    X_train = df_train[\"Text\"]\n",
        "    X_dev = df_dev[\"Text\"]\n",
        "    print(f\"{'='*20} {lang} {'='*20}\")\n",
        "    for task in [\"Sub-task A\", \"Sub-task B\"]:\n",
        "        if task not in df_train.columns:\n",
        "            continue\n",
        "        print(f\"{'-'*20} {task} {'-'*20}\")\n",
        "        y_train = df_train[task].str.upper().replace(\"NULL\", \"NONE\")\n",
        "        y_dev = df_dev[task].str.upper().replace(\"NULL\", \"NONE\")\n",
        "        clf = Pipeline([ \n",
        "            ('vect', CountVectorizer()),\n",
        "            ('tfidf', TfidfTransformer()),\n",
        "            ('clf', LogisticRegressionCV(n_jobs=2, multi_class=\"multinomial\", scoring=scorer,max_iter=300)),\n",
        "        ])\n",
        "        idx = y_train != \"NONE\"\n",
        "        clf.fit(X_train[idx], y_train[idx])\n",
        "        y_pred = clf.predict(X_train)\n",
        "        print(f\"accuracy[train]\\t= {sk_metrics.accuracy_score(y_train[idx], y_pred[idx]):.3f}\")\n",
        "        print(sk_metrics.classification_report(y_train[idx], y_pred[idx]))\n",
        "        idx = y_dev != \"NONE\"\n",
        "        y_pred = clf.predict(X_dev)\n",
        "        print(f\"accuracy[dev]\\t= {sk_metrics.accuracy_score(y_dev[idx], y_pred[idx]):.3f}\")\n",
        "        print(sk_metrics.classification_report(y_dev[idx], y_pred[idx]))        "
      ],
      "execution_count": 20,
      "outputs": [
        {
          "output_type": "stream",
          "text": [
            "==================== EN ====================\n",
            "-------------------- Sub-task A --------------------\n",
            "accuracy[train]\t= 1.000\n",
            "              precision    recall  f1-score   support\n",
            "\n",
            "         CAG       1.00      1.00      1.00       453\n",
            "         NAG       1.00      1.00      1.00      3375\n",
            "         OAG       1.00      1.00      1.00       435\n",
            "\n",
            "    accuracy                           1.00      4263\n",
            "   macro avg       1.00      1.00      1.00      4263\n",
            "weighted avg       1.00      1.00      1.00      4263\n",
            "\n",
            "accuracy[dev]\t= 0.802\n",
            "              precision    recall  f1-score   support\n",
            "\n",
            "         CAG       0.38      0.32      0.34       117\n",
            "         NAG       0.87      0.92      0.89       836\n",
            "         OAG       0.57      0.44      0.50       113\n",
            "\n",
            "    accuracy                           0.80      1066\n",
            "   macro avg       0.61      0.56      0.58      1066\n",
            "weighted avg       0.79      0.80      0.79      1066\n",
            "\n",
            "-------------------- Sub-task B --------------------\n",
            "accuracy[train]\t= 1.000\n",
            "              precision    recall  f1-score   support\n",
            "\n",
            "         GEN       1.00      1.00      1.00       309\n",
            "        NGEN       1.00      1.00      1.00      3954\n",
            "\n",
            "    accuracy                           1.00      4263\n",
            "   macro avg       1.00      1.00      1.00      4263\n",
            "weighted avg       1.00      1.00      1.00      4263\n",
            "\n",
            "accuracy[dev]\t= 0.938\n",
            "              precision    recall  f1-score   support\n",
            "\n",
            "         GEN       0.59      0.30      0.40        73\n",
            "        NGEN       0.95      0.98      0.97       993\n",
            "\n",
            "    accuracy                           0.94      1066\n",
            "   macro avg       0.77      0.64      0.68      1066\n",
            "weighted avg       0.93      0.94      0.93      1066\n",
            "\n",
            "==================== IBE ====================\n",
            "-------------------- Sub-task A --------------------\n",
            "accuracy[train]\t= 0.946\n",
            "              precision    recall  f1-score   support\n",
            "\n",
            "         CAG       0.95      0.92      0.94       898\n",
            "         NAG       0.94      0.98      0.96      2078\n",
            "         OAG       0.95      0.90      0.92       850\n",
            "\n",
            "    accuracy                           0.95      3826\n",
            "   macro avg       0.95      0.93      0.94      3826\n",
            "weighted avg       0.95      0.95      0.95      3826\n",
            "\n",
            "accuracy[dev]\t= 0.657\n",
            "              precision    recall  f1-score   support\n",
            "\n",
            "         CAG       0.49      0.41      0.45       218\n",
            "         NAG       0.72      0.82      0.77       522\n",
            "         OAG       0.62      0.52      0.57       217\n",
            "\n",
            "    accuracy                           0.66       957\n",
            "   macro avg       0.61      0.58      0.59       957\n",
            "weighted avg       0.64      0.66      0.65       957\n",
            "\n",
            "-------------------- Sub-task B --------------------\n",
            "accuracy[train]\t= 0.973\n",
            "              precision    recall  f1-score   support\n",
            "\n",
            "         GEN       0.97      0.88      0.92       712\n",
            "        NGEN       0.97      0.99      0.98      3114\n",
            "\n",
            "    accuracy                           0.97      3826\n",
            "   macro avg       0.97      0.94      0.95      3826\n",
            "weighted avg       0.97      0.97      0.97      3826\n",
            "\n",
            "accuracy[dev]\t= 0.861\n",
            "              precision    recall  f1-score   support\n",
            "\n",
            "         GEN       0.71      0.51      0.59       191\n",
            "        NGEN       0.89      0.95      0.92       766\n",
            "\n",
            "    accuracy                           0.86       957\n",
            "   macro avg       0.80      0.73      0.75       957\n",
            "weighted avg       0.85      0.86      0.85       957\n",
            "\n",
            "==================== HI ====================\n",
            "-------------------- Sub-task A --------------------\n",
            "accuracy[train]\t= 0.998\n",
            "              precision    recall  f1-score   support\n",
            "\n",
            "         CAG       1.00      1.00      1.00       829\n",
            "         NAG       1.00      1.00      1.00      2245\n",
            "         OAG       1.00      1.00      1.00       910\n",
            "\n",
            "    accuracy                           1.00      3984\n",
            "   macro avg       1.00      1.00      1.00      3984\n",
            "weighted avg       1.00      1.00      1.00      3984\n",
            "\n",
            "accuracy[dev]\t= 0.681\n",
            "              precision    recall  f1-score   support\n",
            "\n",
            "         CAG       0.46      0.39      0.42       211\n",
            "         NAG       0.75      0.84      0.79       578\n",
            "         OAG       0.64      0.54      0.58       208\n",
            "\n",
            "    accuracy                           0.68       997\n",
            "   macro avg       0.62      0.59      0.60       997\n",
            "weighted avg       0.67      0.68      0.67       997\n",
            "\n",
            "-------------------- Sub-task B --------------------\n",
            "accuracy[train]\t= 0.999\n",
            "              precision    recall  f1-score   support\n",
            "\n",
            "         GEN       1.00      1.00      1.00       661\n",
            "        NGEN       1.00      1.00      1.00      3323\n",
            "\n",
            "    accuracy                           1.00      3984\n",
            "   macro avg       1.00      1.00      1.00      3984\n",
            "weighted avg       1.00      1.00      1.00      3984\n",
            "\n",
            "accuracy[dev]\t= 0.871\n",
            "              precision    recall  f1-score   support\n",
            "\n",
            "         GEN       0.60      0.47      0.52       152\n",
            "        NGEN       0.91      0.94      0.93       845\n",
            "\n",
            "    accuracy                           0.87       997\n",
            "   macro avg       0.75      0.71      0.72       997\n",
            "weighted avg       0.86      0.87      0.86       997\n",
            "\n"
          ],
          "name": "stdout"
        }
      ]
    },
    {
      "cell_type": "code",
      "metadata": {
        "id": "BzxVx7yKbzjA",
        "colab_type": "code",
        "colab": {}
      },
      "source": [
        ""
      ],
      "execution_count": 0,
      "outputs": []
    }
  ]
}